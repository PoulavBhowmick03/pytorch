{
  "nbformat": 4,
  "nbformat_minor": 0,
  "metadata": {
    "colab": {
      "provenance": [],
      "authorship_tag": "ABX9TyNgbI9u1Q6+HTDySbyBl7Zu",
      "include_colab_link": true
    },
    "kernelspec": {
      "name": "python3",
      "display_name": "Python 3"
    },
    "language_info": {
      "name": "python"
    }
  },
  "cells": [
    {
      "cell_type": "markdown",
      "metadata": {
        "id": "view-in-github",
        "colab_type": "text"
      },
      "source": [
        "<a href=\"https://colab.research.google.com/github/PoulavBhowmick03/pytorch/blob/main/pytorch.ipynb\" target=\"_parent\"><img src=\"https://colab.research.google.com/assets/colab-badge.svg\" alt=\"Open In Colab\"/></a>"
      ]
    },
    {
      "cell_type": "code",
      "execution_count": 1,
      "metadata": {
        "id": "6XLTCMvSdY8n"
      },
      "outputs": [],
      "source": [
        "import torch\n"
      ]
    },
    {
      "cell_type": "markdown",
      "source": [
        "matrix = torch.tensor([[7,8],\n",
        "                       [9,10]])\n",
        "matrix"
      ],
      "metadata": {
        "id": "5CurKyONZTx1"
      }
    },
    {
      "cell_type": "code",
      "source": [
        "TENSOR = torch.tensor([[[1,2,3],\n",
        "                        [3,6,9],\n",
        "                        [4,7,0]],\n",
        "                       [[1,2,3],\n",
        "                        [3,6,9],\n",
        "                        [4,7,0]]])\n",
        "TENSOR"
      ],
      "metadata": {
        "id": "CuCCMiiQZh77",
        "outputId": "3107ad30-2c35-4336-d3c1-30ab926acc40",
        "colab": {
          "base_uri": "https://localhost:8080/"
        }
      },
      "execution_count": 2,
      "outputs": [
        {
          "output_type": "execute_result",
          "data": {
            "text/plain": [
              "tensor([[[1, 2, 3],\n",
              "         [3, 6, 9],\n",
              "         [4, 7, 0]],\n",
              "\n",
              "        [[1, 2, 3],\n",
              "         [3, 6, 9],\n",
              "         [4, 7, 0]]])"
            ]
          },
          "metadata": {},
          "execution_count": 2
        }
      ]
    },
    {
      "cell_type": "code",
      "source": [
        "TENSOR.ndim"
      ],
      "metadata": {
        "id": "lxZOsA3GZrsm",
        "outputId": "5d56eb45-9298-4676-c2ca-2077ed211ba7",
        "colab": {
          "base_uri": "https://localhost:8080/"
        }
      },
      "execution_count": 3,
      "outputs": [
        {
          "output_type": "execute_result",
          "data": {
            "text/plain": [
              "3"
            ]
          },
          "metadata": {},
          "execution_count": 3
        }
      ]
    },
    {
      "cell_type": "code",
      "source": [
        "TENSOR.shape"
      ],
      "metadata": {
        "id": "QUFzLW_zZti0",
        "outputId": "adfb3adb-bd2e-4593-df3c-53db3f3d20e3",
        "colab": {
          "base_uri": "https://localhost:8080/"
        }
      },
      "execution_count": 4,
      "outputs": [
        {
          "output_type": "execute_result",
          "data": {
            "text/plain": [
              "torch.Size([2, 3, 3])"
            ]
          },
          "metadata": {},
          "execution_count": 4
        }
      ]
    },
    {
      "cell_type": "code",
      "source": [
        "TENSOR[1]"
      ],
      "metadata": {
        "id": "M2nzfrQgaHCP",
        "outputId": "6f043c2b-2356-402b-97ba-345f5bcdb189",
        "colab": {
          "base_uri": "https://localhost:8080/"
        }
      },
      "execution_count": 5,
      "outputs": [
        {
          "output_type": "execute_result",
          "data": {
            "text/plain": [
              "tensor([[1, 2, 3],\n",
              "        [3, 6, 9],\n",
              "        [4, 7, 0]])"
            ]
          },
          "metadata": {},
          "execution_count": 5
        }
      ]
    },
    {
      "cell_type": "code",
      "source": [],
      "metadata": {
        "id": "Xw75XW_caLNX"
      },
      "execution_count": 5,
      "outputs": []
    },
    {
      "cell_type": "markdown",
      "source": [
        "#Random Tensors\n"
      ],
      "metadata": {
        "id": "kVbjP4IJaS80"
      }
    },
    {
      "cell_type": "code",
      "source": [
        "# Create a random tensor of shape (3,4)\n",
        "random_tensor = torch.rand(3,4)\n",
        "random_tensor"
      ],
      "metadata": {
        "id": "P4gWBm9jaVHg",
        "outputId": "910b055c-6e90-49b6-b59b-0c70d70f5ef0",
        "colab": {
          "base_uri": "https://localhost:8080/"
        }
      },
      "execution_count": 6,
      "outputs": [
        {
          "output_type": "execute_result",
          "data": {
            "text/plain": [
              "tensor([[0.4082, 0.3670, 0.2484, 0.5086],\n",
              "        [0.9585, 0.3255, 0.8307, 0.5978],\n",
              "        [0.0706, 0.0039, 0.4820, 0.2122]])"
            ]
          },
          "metadata": {},
          "execution_count": 6
        }
      ]
    },
    {
      "cell_type": "code",
      "source": [
        "random_image_tensor = torch.rand(224,224,3) #height, widthm, color channels (R,G,B)\n",
        "random_image_tensor.shape\n"
      ],
      "metadata": {
        "id": "9_zyQBZzatDl",
        "outputId": "1355fc58-7e0f-42c0-b452-541a7fc27392",
        "colab": {
          "base_uri": "https://localhost:8080/"
        }
      },
      "execution_count": 7,
      "outputs": [
        {
          "output_type": "execute_result",
          "data": {
            "text/plain": [
              "torch.Size([224, 224, 3])"
            ]
          },
          "metadata": {},
          "execution_count": 7
        }
      ]
    },
    {
      "cell_type": "code",
      "source": [
        "## Zeroes and Ones\n",
        "#All zeroes\n",
        "zeros = torch.zeros(size=(3,4))\n",
        "zeros"
      ],
      "metadata": {
        "id": "LA1oC91ZauJ_",
        "outputId": "73debdb8-7e1b-4a28-8ad6-4046fad26f6a",
        "colab": {
          "base_uri": "https://localhost:8080/"
        }
      },
      "execution_count": 8,
      "outputs": [
        {
          "output_type": "execute_result",
          "data": {
            "text/plain": [
              "tensor([[0., 0., 0., 0.],\n",
              "        [0., 0., 0., 0.],\n",
              "        [0., 0., 0., 0.]])"
            ]
          },
          "metadata": {},
          "execution_count": 8
        }
      ]
    },
    {
      "cell_type": "code",
      "source": [
        "ones = torch.ones(3,4)\n",
        "ones"
      ],
      "metadata": {
        "id": "QkWYWo6XauGO",
        "outputId": "980d4821-f294-45d0-bfa4-57ee06b832e8",
        "colab": {
          "base_uri": "https://localhost:8080/"
        }
      },
      "execution_count": 9,
      "outputs": [
        {
          "output_type": "execute_result",
          "data": {
            "text/plain": [
              "tensor([[1., 1., 1., 1.],\n",
              "        [1., 1., 1., 1.],\n",
              "        [1., 1., 1., 1.]])"
            ]
          },
          "metadata": {},
          "execution_count": 9
        }
      ]
    },
    {
      "cell_type": "markdown",
      "source": [
        "# Tensor Datatypes"
      ],
      "metadata": {
        "id": "g8vncXJIejDY"
      }
    },
    {
      "cell_type": "code",
      "source": [
        "float_32_tensor = torch.tensor([3.0,6.0],\n",
        "                               dtype=None,\n",
        "                               device=None,\n",
        "                               requires_grad=False)"
      ],
      "metadata": {
        "id": "ZCxd2x1IauD9"
      },
      "execution_count": 12,
      "outputs": []
    },
    {
      "cell_type": "code",
      "source": [],
      "metadata": {
        "id": "CgMUOlsuauBV"
      },
      "execution_count": 10,
      "outputs": []
    },
    {
      "cell_type": "code",
      "source": [],
      "metadata": {
        "id": "cFKT82Vsat_F"
      },
      "execution_count": 10,
      "outputs": []
    },
    {
      "cell_type": "code",
      "source": [],
      "metadata": {
        "id": "OT3wViwdat8u"
      },
      "execution_count": 10,
      "outputs": []
    },
    {
      "cell_type": "code",
      "source": [],
      "metadata": {
        "id": "DISpmrx9at4u"
      },
      "execution_count": 10,
      "outputs": []
    },
    {
      "cell_type": "code",
      "source": [],
      "metadata": {
        "id": "8m7kSL6hat2O"
      },
      "execution_count": null,
      "outputs": []
    },
    {
      "cell_type": "code",
      "source": [],
      "metadata": {
        "id": "pZiLYgA6atzu"
      },
      "execution_count": null,
      "outputs": []
    },
    {
      "cell_type": "code",
      "source": [],
      "metadata": {
        "id": "oRhHIMT1attF"
      },
      "execution_count": null,
      "outputs": []
    }
  ]
}