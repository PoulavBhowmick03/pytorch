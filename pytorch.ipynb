{
  "nbformat": 4,
  "nbformat_minor": 0,
  "metadata": {
    "colab": {
      "provenance": [],
      "authorship_tag": "ABX9TyPtPhTaQklFds7plZZLA1hX",
      "include_colab_link": true
    },
    "kernelspec": {
      "name": "python3",
      "display_name": "Python 3"
    },
    "language_info": {
      "name": "python"
    }
  },
  "cells": [
    {
      "cell_type": "markdown",
      "metadata": {
        "id": "view-in-github",
        "colab_type": "text"
      },
      "source": [
        "<a href=\"https://colab.research.google.com/github/PoulavBhowmick03/pytorch/blob/main/pytorch.ipynb\" target=\"_parent\"><img src=\"https://colab.research.google.com/assets/colab-badge.svg\" alt=\"Open In Colab\"/></a>"
      ]
    },
    {
      "cell_type": "code",
      "execution_count": 1,
      "metadata": {
        "id": "6XLTCMvSdY8n"
      },
      "outputs": [],
      "source": [
        "import torch\n"
      ]
    },
    {
      "cell_type": "markdown",
      "source": [
        "matrix = torch.tensor([[7,8],\n",
        "                       [9,10]])\n",
        "matrix"
      ],
      "metadata": {
        "id": "5CurKyONZTx1"
      }
    },
    {
      "cell_type": "code",
      "source": [
        "TENSOR = torch.tensor([[[1,2,3],\n",
        "                        [3,6,9],\n",
        "                        [4,7,0]],\n",
        "                       [[1,2,3],\n",
        "                        [3,6,9],\n",
        "                        [4,7,0]]])\n",
        "TENSOR"
      ],
      "metadata": {
        "colab": {
          "base_uri": "https://localhost:8080/"
        },
        "id": "CuCCMiiQZh77",
        "outputId": "5ba8a8e9-5d8a-476c-a1b5-9d3eb2c4531e"
      },
      "execution_count": 2,
      "outputs": [
        {
          "output_type": "execute_result",
          "data": {
            "text/plain": [
              "tensor([[[1, 2, 3],\n",
              "         [3, 6, 9],\n",
              "         [4, 7, 0]],\n",
              "\n",
              "        [[1, 2, 3],\n",
              "         [3, 6, 9],\n",
              "         [4, 7, 0]]])"
            ]
          },
          "metadata": {},
          "execution_count": 2
        }
      ]
    },
    {
      "cell_type": "code",
      "source": [
        "TENSOR.ndim"
      ],
      "metadata": {
        "colab": {
          "base_uri": "https://localhost:8080/"
        },
        "id": "lxZOsA3GZrsm",
        "outputId": "abaecd10-4c24-4aa3-a65a-e89aece06d10"
      },
      "execution_count": 3,
      "outputs": [
        {
          "output_type": "execute_result",
          "data": {
            "text/plain": [
              "3"
            ]
          },
          "metadata": {},
          "execution_count": 3
        }
      ]
    },
    {
      "cell_type": "code",
      "source": [
        "TENSOR.shape"
      ],
      "metadata": {
        "colab": {
          "base_uri": "https://localhost:8080/"
        },
        "id": "QUFzLW_zZti0",
        "outputId": "566ed119-0b57-4005-c639-d686136e8315"
      },
      "execution_count": 4,
      "outputs": [
        {
          "output_type": "execute_result",
          "data": {
            "text/plain": [
              "torch.Size([2, 3, 3])"
            ]
          },
          "metadata": {},
          "execution_count": 4
        }
      ]
    },
    {
      "cell_type": "code",
      "source": [
        "TENSOR[1]"
      ],
      "metadata": {
        "colab": {
          "base_uri": "https://localhost:8080/"
        },
        "id": "M2nzfrQgaHCP",
        "outputId": "6ab9d59b-3c43-4d5b-d720-577e12dedcc4"
      },
      "execution_count": 5,
      "outputs": [
        {
          "output_type": "execute_result",
          "data": {
            "text/plain": [
              "tensor([[1, 2, 3],\n",
              "        [3, 6, 9],\n",
              "        [4, 7, 0]])"
            ]
          },
          "metadata": {},
          "execution_count": 5
        }
      ]
    },
    {
      "cell_type": "code",
      "source": [],
      "metadata": {
        "id": "Xw75XW_caLNX"
      },
      "execution_count": 5,
      "outputs": []
    },
    {
      "cell_type": "markdown",
      "source": [
        "#Random Tensors\n"
      ],
      "metadata": {
        "id": "kVbjP4IJaS80"
      }
    },
    {
      "cell_type": "code",
      "source": [
        "# Create a random tensor of shape (3,4)\n",
        "random_tensor = torch.rand(3,4)\n",
        "random_tensor"
      ],
      "metadata": {
        "colab": {
          "base_uri": "https://localhost:8080/"
        },
        "id": "P4gWBm9jaVHg",
        "outputId": "5f2c08d4-b6d3-4ed7-f085-11dd1809c6f1"
      },
      "execution_count": 6,
      "outputs": [
        {
          "output_type": "execute_result",
          "data": {
            "text/plain": [
              "tensor([[0.4941, 0.0082, 0.7599, 0.9262],\n",
              "        [0.6719, 0.4741, 0.1025, 0.8121],\n",
              "        [0.7428, 0.8192, 0.8411, 0.8686]])"
            ]
          },
          "metadata": {},
          "execution_count": 6
        }
      ]
    },
    {
      "cell_type": "code",
      "source": [
        "random_image_tensor = torch.rand(224,224,3) #height, widthm, color channels (R,G,B)\n",
        "random_image_tensor.shape\n"
      ],
      "metadata": {
        "colab": {
          "base_uri": "https://localhost:8080/"
        },
        "id": "9_zyQBZzatDl",
        "outputId": "34f27348-0169-4422-d87d-bf95199a5966"
      },
      "execution_count": 7,
      "outputs": [
        {
          "output_type": "execute_result",
          "data": {
            "text/plain": [
              "torch.Size([224, 224, 3])"
            ]
          },
          "metadata": {},
          "execution_count": 7
        }
      ]
    },
    {
      "cell_type": "code",
      "source": [
        "## Zeroes and Ones\n",
        "#All zeroes\n",
        "zeros = torch.zeros(size=(3,4))\n",
        "zeros"
      ],
      "metadata": {
        "colab": {
          "base_uri": "https://localhost:8080/"
        },
        "id": "LA1oC91ZauJ_",
        "outputId": "ef812804-bc97-4d57-c7b1-fc88a3d3e2b9"
      },
      "execution_count": 8,
      "outputs": [
        {
          "output_type": "execute_result",
          "data": {
            "text/plain": [
              "tensor([[0., 0., 0., 0.],\n",
              "        [0., 0., 0., 0.],\n",
              "        [0., 0., 0., 0.]])"
            ]
          },
          "metadata": {},
          "execution_count": 8
        }
      ]
    },
    {
      "cell_type": "code",
      "source": [
        "ones = torch.ones(3,4)\n",
        "ones"
      ],
      "metadata": {
        "colab": {
          "base_uri": "https://localhost:8080/"
        },
        "id": "QkWYWo6XauGO",
        "outputId": "3931c920-f7c1-4392-920b-247837092aa4"
      },
      "execution_count": 9,
      "outputs": [
        {
          "output_type": "execute_result",
          "data": {
            "text/plain": [
              "tensor([[1., 1., 1., 1.],\n",
              "        [1., 1., 1., 1.],\n",
              "        [1., 1., 1., 1.]])"
            ]
          },
          "metadata": {},
          "execution_count": 9
        }
      ]
    },
    {
      "cell_type": "markdown",
      "source": [
        "# Tensor Datatypes"
      ],
      "metadata": {
        "id": "g8vncXJIejDY"
      }
    },
    {
      "cell_type": "code",
      "source": [
        "float_32_tensor = torch.tensor([3.0,6.0],\n",
        "                               dtype=None,\n",
        "                               device=None,\n",
        "                               requires_grad=False)"
      ],
      "metadata": {
        "id": "ZCxd2x1IauD9"
      },
      "execution_count": 10,
      "outputs": []
    },
    {
      "cell_type": "code",
      "source": [
        "#Manipulating Tensors (tensor operations)\n",
        "\n",
        "# 1. Addition\n",
        "# 2. Subs\n",
        "# 3. Multiply\n",
        "# Division\n",
        "# Matrix multiply\n",
        "\n",
        "random_tensor1 = torch.rand(4,4)\n",
        "random_tensor2 = torch.rand(4,4)\n",
        "tensor_mult = torch.matmul(random_tensor1, random_tensor2)\n",
        "random_tensor1, random_tensor2 ,random_tensor1 + random_tensor2,random_tensor1 - random_tensor2 ,  tensor_mult"
      ],
      "metadata": {
        "colab": {
          "base_uri": "https://localhost:8080/"
        },
        "id": "CgMUOlsuauBV",
        "outputId": "11e3c88e-9474-48b8-f1ff-250b539638c8"
      },
      "execution_count": 11,
      "outputs": [
        {
          "output_type": "execute_result",
          "data": {
            "text/plain": [
              "(tensor([[0.1670, 0.1437, 0.9091, 0.6455],\n",
              "         [0.7614, 0.1822, 0.0990, 0.0740],\n",
              "         [0.6636, 0.4659, 0.7117, 0.7757],\n",
              "         [0.8049, 0.8281, 0.4774, 0.1450]]),\n",
              " tensor([[0.4885, 0.9526, 0.5421, 0.3507],\n",
              "         [0.3824, 0.8869, 0.8390, 0.1686],\n",
              "         [0.3730, 0.6315, 0.5773, 0.5431],\n",
              "         [0.2679, 0.5223, 0.4678, 0.3194]]),\n",
              " tensor([[0.6554, 1.0963, 1.4511, 0.9962],\n",
              "         [1.1439, 1.0691, 0.9380, 0.2425],\n",
              "         [1.0366, 1.0974, 1.2890, 1.3188],\n",
              "         [1.0728, 1.3503, 0.9451, 0.4644]]),\n",
              " tensor([[-0.3215, -0.8089,  0.3670,  0.2948],\n",
              "         [ 0.3790, -0.7048, -0.7401, -0.0946],\n",
              "         [ 0.2907, -0.1656,  0.1344,  0.2326],\n",
              "         [ 0.5370,  0.3058,  0.0096, -0.1743]]),\n",
              " tensor([[0.6485, 1.1977, 1.0378, 0.7827],\n",
              "         [0.4983, 0.9880, 0.6573, 0.3751],\n",
              "         [0.9756, 1.8999, 1.5243, 0.9456],\n",
              "         [0.9267, 1.8784, 1.4745, 0.7275]]))"
            ]
          },
          "metadata": {},
          "execution_count": 11
        }
      ]
    },
    {
      "cell_type": "markdown",
      "source": [
        "# Reshaping, stacking and squeezing tensors\n",
        "* Reshape= reshapes to a defined shape\n",
        "* View = return a view of an input tensor of certain shape but keep the same memory as the original tensor\n",
        "* Stack = combines multiple tensors on top of each other (vstack) or side by side (hstack)"
      ],
      "metadata": {
        "id": "x5KBcgeiPlPC"
      }
    },
    {
      "cell_type": "code",
      "source": [
        "import torch\n",
        "x= torch.arange(1. ,10.)\n",
        "x"
      ],
      "metadata": {
        "colab": {
          "base_uri": "https://localhost:8080/"
        },
        "id": "cFKT82Vsat_F",
        "outputId": "abda0276-6afc-43ef-bf6d-caf6621a5c1d"
      },
      "execution_count": 12,
      "outputs": [
        {
          "output_type": "execute_result",
          "data": {
            "text/plain": [
              "tensor([1., 2., 3., 4., 5., 6., 7., 8., 9.])"
            ]
          },
          "metadata": {},
          "execution_count": 12
        }
      ]
    },
    {
      "cell_type": "code",
      "source": [
        "x_reshaped = x.reshape(1,9)\n",
        "x_reshaped, x_reshaped.shape"
      ],
      "metadata": {
        "colab": {
          "base_uri": "https://localhost:8080/"
        },
        "id": "OT3wViwdat8u",
        "outputId": "49cedfb4-9169-497e-eb24-fdf9bc82d892"
      },
      "execution_count": 13,
      "outputs": [
        {
          "output_type": "execute_result",
          "data": {
            "text/plain": [
              "(tensor([[1., 2., 3., 4., 5., 6., 7., 8., 9.]]), torch.Size([1, 9]))"
            ]
          },
          "metadata": {},
          "execution_count": 13
        }
      ]
    },
    {
      "cell_type": "markdown",
      "source": [
        "#Pytorch Tensors and Numpy\n",
        "*Numpy to Torch tensor -> torch.from_numpy(ndarray)\n",
        "\n",
        "*Torch tensor to Numpy -> torch.Tensor()"
      ],
      "metadata": {
        "id": "BsumdpFFvgAP"
      }
    },
    {
      "cell_type": "code",
      "source": [
        "import torch\n",
        "import numpy as np\n",
        "\n",
        "array = np.arange(1.0,8.0)\n",
        "tensor = torch.from_numpy(array).type(torch.float32)\n",
        "array, tensor"
      ],
      "metadata": {
        "id": "kJ8m4bilvaU2",
        "outputId": "5f07aa77-94e5-4a43-c134-568d88a1f846",
        "colab": {
          "base_uri": "https://localhost:8080/"
        }
      },
      "execution_count": 14,
      "outputs": [
        {
          "output_type": "execute_result",
          "data": {
            "text/plain": [
              "(array([1., 2., 3., 4., 5., 6., 7.]), tensor([1., 2., 3., 4., 5., 6., 7.]))"
            ]
          },
          "metadata": {},
          "execution_count": 14
        }
      ]
    },
    {
      "cell_type": "code",
      "source": [
        "#change the value of array\n",
        "array = array +1\n",
        "array,tensor"
      ],
      "metadata": {
        "colab": {
          "base_uri": "https://localhost:8080/"
        },
        "id": "DISpmrx9at4u",
        "outputId": "c259ef73-3998-41a8-905e-a6a9d47ed9a7"
      },
      "execution_count": 15,
      "outputs": [
        {
          "output_type": "execute_result",
          "data": {
            "text/plain": [
              "(array([2., 3., 4., 5., 6., 7., 8.]), tensor([1., 2., 3., 4., 5., 6., 7.]))"
            ]
          },
          "metadata": {},
          "execution_count": 15
        }
      ]
    },
    {
      "cell_type": "code",
      "source": [
        "#Tensor to Numpy\n",
        "tensor = torch.ones(8)\n",
        "numpy_tensor = tensor.numpy()\n",
        "tensor, numpy_tensor"
      ],
      "metadata": {
        "colab": {
          "base_uri": "https://localhost:8080/"
        },
        "id": "8m7kSL6hat2O",
        "outputId": "b1316cc3-93c7-486b-f8f9-bd7e27662ad2"
      },
      "execution_count": 16,
      "outputs": [
        {
          "output_type": "execute_result",
          "data": {
            "text/plain": [
              "(tensor([1., 1., 1., 1., 1., 1., 1., 1.]),\n",
              " array([1., 1., 1., 1., 1., 1., 1., 1.], dtype=float32))"
            ]
          },
          "metadata": {},
          "execution_count": 16
        }
      ]
    },
    {
      "cell_type": "code",
      "source": [
        "tensor = tensor +1\n",
        "tensor, numpy_tensor"
      ],
      "metadata": {
        "colab": {
          "base_uri": "https://localhost:8080/"
        },
        "id": "pZiLYgA6atzu",
        "outputId": "9ec34a4c-8eb6-4e5f-a382-103a483d5b03"
      },
      "execution_count": 17,
      "outputs": [
        {
          "output_type": "execute_result",
          "data": {
            "text/plain": [
              "(tensor([2., 2., 2., 2., 2., 2., 2., 2.]),\n",
              " array([1., 1., 1., 1., 1., 1., 1., 1.], dtype=float32))"
            ]
          },
          "metadata": {},
          "execution_count": 17
        }
      ]
    },
    {
      "cell_type": "markdown",
      "source": [
        "# Reproducibility"
      ],
      "metadata": {
        "id": "m_ZH0QSMxqHw"
      }
    },
    {
      "cell_type": "markdown",
      "source": [
        "## Reproducibility (trying to take random out of random)\n",
        "\n",
        "In short, how a neural network learns:\n",
        "`start with random numbers --> tensor operations --> update random numbers to try and make them better representations of the data -> again -> again -> again`\n",
        "\n",
        "Howver, to reduce randomness in NN and pytorch, comes the concept of\n",
        "**random seed**\n",
        "Essen"
      ],
      "metadata": {
        "id": "6EOvwoxbmfFJ"
      }
    },
    {
      "cell_type": "code",
      "source": [
        "random_tensorA = torch.rand(3,4)\n",
        "random_tensorB = torch.rand(3,4)\n",
        "\n",
        "print(random_tensorA)\n",
        "print(random_tensorB)\n",
        "\n",
        "print(random_tensorA==random_tensorB)"
      ],
      "metadata": {
        "colab": {
          "base_uri": "https://localhost:8080/"
        },
        "id": "oRhHIMT1attF",
        "outputId": "049d7e6d-26af-4284-a005-99e380a472e3"
      },
      "execution_count": 18,
      "outputs": [
        {
          "output_type": "stream",
          "name": "stdout",
          "text": [
            "tensor([[0.0100, 0.7046, 0.0138, 0.9015],\n",
            "        [0.3403, 0.2803, 0.3959, 0.8713],\n",
            "        [0.3319, 0.8325, 0.7858, 0.5498]])\n",
            "tensor([[0.8368, 0.0325, 0.6288, 0.5007],\n",
            "        [0.9513, 0.0152, 0.2259, 0.1740],\n",
            "        [0.2079, 0.1426, 0.8620, 0.1860]])\n",
            "tensor([[False, False, False, False],\n",
            "        [False, False, False, False],\n",
            "        [False, False, False, False]])\n"
          ]
        }
      ]
    },
    {
      "cell_type": "code",
      "source": [
        "#Random but reproducibkle tensors\n",
        "import torch\n",
        "\n",
        "#Set the Random seed\n",
        "RANDOM_SEED = 22\n",
        "torch.manual_seed(RANDOM_SEED)\n",
        "\n",
        "random_tensorC= torch.rand(3,4)\n",
        "\n",
        "torch.manual_seed(RANDOM_SEED)\n",
        "\n",
        "random_tensorD= torch.rand(3,4)\n",
        "\n",
        "print(random_tensorC)\n",
        "print(random_tensorD)\n",
        "print(random_tensorC==random_tensorD)"
      ],
      "metadata": {
        "id": "fw-mhP4AAKcn",
        "outputId": "07a63f68-c9d4-4c93-a04e-e46d8b0e5526",
        "colab": {
          "base_uri": "https://localhost:8080/"
        }
      },
      "execution_count": 19,
      "outputs": [
        {
          "output_type": "stream",
          "name": "stdout",
          "text": [
            "tensor([[0.3659, 0.7025, 0.3104, 0.0097],\n",
            "        [0.6577, 0.1947, 0.9506, 0.6887],\n",
            "        [0.8174, 0.7575, 0.7492, 0.6874]])\n",
            "tensor([[0.3659, 0.7025, 0.3104, 0.0097],\n",
            "        [0.6577, 0.1947, 0.9506, 0.6887],\n",
            "        [0.8174, 0.7575, 0.7492, 0.6874]])\n",
            "tensor([[True, True, True, True],\n",
            "        [True, True, True, True],\n",
            "        [True, True, True, True]])\n"
          ]
        }
      ]
    },
    {
      "cell_type": "code",
      "source": [
        "#Setup device agnostic code\n",
        "\n",
        "device = \"cuda\" if torch.cuda.is_available() else \"cpu\"\n",
        "device"
      ],
      "metadata": {
        "id": "YFMYIoA-FdGi",
        "outputId": "ca1bf487-e944-445f-b1f3-dc854abc22fd",
        "colab": {
          "base_uri": "https://localhost:8080/",
          "height": 36
        }
      },
      "execution_count": 20,
      "outputs": [
        {
          "output_type": "execute_result",
          "data": {
            "text/plain": [
              "'cuda'"
            ],
            "application/vnd.google.colaboratory.intrinsic+json": {
              "type": "string"
            }
          },
          "metadata": {},
          "execution_count": 20
        }
      ]
    },
    {
      "cell_type": "code",
      "source": [
        "tensor = torch.tensor ([1,2,3])\n",
        "\n",
        "print(tensor, tensor.device)"
      ],
      "metadata": {
        "id": "O8aHc3vyFvJ0",
        "outputId": "0037ae77-a728-4f4f-da56-34d5bfc34386",
        "colab": {
          "base_uri": "https://localhost:8080/"
        }
      },
      "execution_count": 21,
      "outputs": [
        {
          "output_type": "stream",
          "name": "stdout",
          "text": [
            "tensor([1, 2, 3]) cpu\n"
          ]
        }
      ]
    },
    {
      "cell_type": "code",
      "source": [
        "tensor_on_gpu = tensor.to(device)\n",
        "tensor_on_gpu"
      ],
      "metadata": {
        "id": "vgWozq4iF4bF",
        "outputId": "f4b5f907-e6c5-4e7c-9445-f39b1d5859bc",
        "colab": {
          "base_uri": "https://localhost:8080/"
        }
      },
      "execution_count": 22,
      "outputs": [
        {
          "output_type": "execute_result",
          "data": {
            "text/plain": [
              "tensor([1, 2, 3], device='cuda:0')"
            ]
          },
          "metadata": {},
          "execution_count": 22
        }
      ]
    },
    {
      "cell_type": "markdown",
      "source": [
        "#Moving tensor back to cpu\n"
      ],
      "metadata": {
        "id": "SXJp2HC3GGpo"
      }
    },
    {
      "cell_type": "code",
      "source": [
        "#To fix GPU tensor to numpy, set it to cpu\n",
        "tensor_to_cpu = tensor_on_gpu.cpu().numpy()\n",
        "tensor_to_cpu\n"
      ],
      "metadata": {
        "id": "t51EHXoaGJPm",
        "outputId": "84e16af8-38fc-44b1-ee94-20f1c11442ba",
        "colab": {
          "base_uri": "https://localhost:8080/"
        }
      },
      "execution_count": 23,
      "outputs": [
        {
          "output_type": "execute_result",
          "data": {
            "text/plain": [
              "array([1, 2, 3])"
            ]
          },
          "metadata": {},
          "execution_count": 23
        }
      ]
    },
    {
      "cell_type": "markdown",
      "source": [
        "# Pytorch Workflow"
      ],
      "metadata": {
        "id": "JeyDXq2jHESf"
      }
    },
    {
      "cell_type": "code",
      "source": [],
      "metadata": {
        "id": "5IBJ01RXHG9l"
      },
      "execution_count": null,
      "outputs": []
    }
  ]
}